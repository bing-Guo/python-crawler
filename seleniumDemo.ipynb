{
 "cells": [
  {
   "cell_type": "code",
   "execution_count": 72,
   "metadata": {
    "collapsed": false
   },
   "outputs": [],
   "source": [
    "# version: 1.0\n",
    "# author: Bing\n",
    "# selenium demo\n",
    "##############################################################\n",
    "import requests\n",
    "import time\n",
    "from bs4 import BeautifulSoup\n",
    "from selenium import webdriver\n",
    "##############################################################"
   ]
  },
  {
   "cell_type": "code",
   "execution_count": 75,
   "metadata": {
    "collapsed": false
   },
   "outputs": [],
   "source": [
    "# 新增一個Firefox driver\n",
    "browser = webdriver.Firefox(executable_path=r\"C:\\Python\\geckodriver.exe\")\n",
    "\n",
    "# 轉址到url\n",
    "url = 'https://item.taobao.com/item.htm?id=542794230198&toSite=main'\n",
    "browser.get(url)\n",
    "\n",
    "# 找到元素(此處用xpath)，並且點擊\n",
    "browser.find_element_by_xpath(\"//ul[@id='J_TabBar']/li[2]/a\").click()\n",
    "\n",
    "# sleep 5 sec，讓瀏覽器載入資料\n",
    "time.sleep(5)\n",
    "\n",
    "# 用BeautifulSoup parse 資料\n",
    "soup = BeautifulSoup(browser.page_source, \"html.parser\")\n",
    "\n",
    "# 取得評論的文字和時間\n",
    "reviews = soup.select(\".J_KgRate_ReviewItem\")\n",
    "for review in reviews:\n",
    "    content = review.select(\".review-details .tb-rev-item .tb-tbcr-content\")[0].text\n",
    "    content = content.strip()\n",
    "    date = review.select(\".review-details .tb-rev-item .tb-r-act-bar .tb-r-info .tb-r-date\")[0].text\n",
    "    print(content)    \n",
    "    print(date)\n",
    "\n",
    "#結束，關閉瀏覽器\n",
    "browser.quit()\n"
   ]
  },
  {
   "cell_type": "code",
   "execution_count": null,
   "metadata": {
    "collapsed": true
   },
   "outputs": [],
   "source": []
  },
  {
   "cell_type": "code",
   "execution_count": null,
   "metadata": {
    "collapsed": true
   },
   "outputs": [],
   "source": []
  }
 ],
 "metadata": {
  "kernelspec": {
   "display_name": "Python 3",
   "language": "python",
   "name": "python3"
  },
  "language_info": {
   "codemirror_mode": {
    "name": "ipython",
    "version": 3
   },
   "file_extension": ".py",
   "mimetype": "text/x-python",
   "name": "python",
   "nbconvert_exporter": "python",
   "pygments_lexer": "ipython3",
   "version": "3.6.0"
  }
 },
 "nbformat": 4,
 "nbformat_minor": 2
}
